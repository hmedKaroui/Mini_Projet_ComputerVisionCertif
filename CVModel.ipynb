{
 "cells": [
  {
   "cell_type": "code",
   "execution_count": 23,
   "id": "82be4c2d",
   "metadata": {},
   "outputs": [
    {
     "data": {
      "text/plain": [
       "'2.7.0'"
      ]
     },
     "execution_count": 23,
     "metadata": {},
     "output_type": "execute_result"
    }
   ],
   "source": [
    "import tensorflow as tf\n",
    "from keras.preprocessing.image import ImageDataGenerator\n",
    "tf.__version__"
   ]
  },
  {
   "cell_type": "code",
   "execution_count": 24,
   "id": "8671dff7",
   "metadata": {},
   "outputs": [
    {
     "name": "stdout",
     "output_type": "stream",
     "text": [
      "Found 163 images belonging to 2 classes.\n"
     ]
    }
   ],
   "source": [
    "# Preprocessing the Training set\n",
    "train_datagen = ImageDataGenerator(rescale = 1./255,\n",
    "                                   shear_range = 0.2,\n",
    "                                   zoom_range = 0.2,\n",
    "                                   horizontal_flip = True)\n",
    "training_set = train_datagen.flow_from_directory('training_set',\n",
    "                                                 target_size = (128, 128),\n",
    "                                                 batch_size = 32,\n",
    "                                                 class_mode = 'binary')"
   ]
  },
  {
   "cell_type": "code",
   "execution_count": 25,
   "id": "d4ffe10f",
   "metadata": {},
   "outputs": [
    {
     "name": "stdout",
     "output_type": "stream",
     "text": [
      "Found 40 images belonging to 2 classes.\n"
     ]
    }
   ],
   "source": [
    "# Preprocessing the Test set\n",
    "test_datagen = ImageDataGenerator(rescale = 1./255)\n",
    "test_set = test_datagen.flow_from_directory('test_set',\n",
    "                                            target_size = (128, 128),\n",
    "                                            batch_size = 32,\n",
    "                                            class_mode = 'binary')"
   ]
  },
  {
   "cell_type": "code",
   "execution_count": 26,
   "id": "5a11097b",
   "metadata": {},
   "outputs": [],
   "source": [
    "cnn = tf.keras.models.Sequential()\n",
    "\n",
    "# Step 1 - Convolution\n",
    "cnn.add(tf.keras.layers.Conv2D(filters=32, kernel_size=3, activation='relu', input_shape=[128, 128, 3]))\n",
    "\n",
    "# Step 2 - Pooling\n",
    "cnn.add(tf.keras.layers.MaxPool2D(pool_size=2, strides=2))\n",
    "\n",
    "# Adding a second convolutional layer\n",
    "cnn.add(tf.keras.layers.Conv2D(filters=64, kernel_size=3, activation='relu'))\n",
    "cnn.add(tf.keras.layers.MaxPool2D(pool_size=2, strides=2))\n",
    "\n",
    "\n",
    "# Step 3 - Flattening\n",
    "cnn.add(tf.keras.layers.Flatten())\n",
    "\n",
    "# Step 4 - Full Connection\n",
    "cnn.add(tf.keras.layers.Dense(units=128, activation='relu'))\n",
    "\n",
    "# Step 5 - Output Layer\n",
    "cnn.add(tf.keras.layers.Dense(units=1, activation='sigmoid'))"
   ]
  },
  {
   "cell_type": "code",
   "execution_count": 27,
   "id": "1a393b03",
   "metadata": {},
   "outputs": [],
   "source": [
    "cnn.compile(optimizer = 'adam', loss = 'binary_crossentropy', metrics = ['accuracy'])"
   ]
  },
  {
   "cell_type": "code",
   "execution_count": 28,
   "id": "b947c73d",
   "metadata": {},
   "outputs": [
    {
     "name": "stdout",
     "output_type": "stream",
     "text": [
      "Epoch 1/25\n",
      "6/6 [==============================] - 10s 2s/step - loss: 1.2800 - accuracy: 0.5583 - val_loss: 0.7406 - val_accuracy: 0.5000\n",
      "Epoch 2/25\n",
      "6/6 [==============================] - 9s 1s/step - loss: 0.6973 - accuracy: 0.5215 - val_loss: 0.6895 - val_accuracy: 0.6000\n",
      "Epoch 3/25\n",
      "6/6 [==============================] - 9s 2s/step - loss: 0.6732 - accuracy: 0.6748 - val_loss: 0.6967 - val_accuracy: 0.5000\n",
      "Epoch 4/25\n",
      "6/6 [==============================] - 8s 1s/step - loss: 0.6477 - accuracy: 0.6135 - val_loss: 0.7462 - val_accuracy: 0.5500\n",
      "Epoch 5/25\n",
      "6/6 [==============================] - 8s 1s/step - loss: 0.6183 - accuracy: 0.6626 - val_loss: 0.6479 - val_accuracy: 0.6000\n",
      "Epoch 6/25\n",
      "6/6 [==============================] - 8s 1s/step - loss: 0.5257 - accuracy: 0.7239 - val_loss: 0.6441 - val_accuracy: 0.6500\n",
      "Epoch 7/25\n",
      "6/6 [==============================] - 8s 1s/step - loss: 0.4394 - accuracy: 0.8160 - val_loss: 0.7554 - val_accuracy: 0.5750\n",
      "Epoch 8/25\n",
      "6/6 [==============================] - 8s 1s/step - loss: 0.4194 - accuracy: 0.7975 - val_loss: 1.4041 - val_accuracy: 0.5500\n",
      "Epoch 9/25\n",
      "6/6 [==============================] - 9s 1s/step - loss: 0.5556 - accuracy: 0.7423 - val_loss: 0.5953 - val_accuracy: 0.7750\n",
      "Epoch 10/25\n",
      "6/6 [==============================] - 8s 2s/step - loss: 0.3969 - accuracy: 0.8098 - val_loss: 0.7363 - val_accuracy: 0.7500\n",
      "Epoch 11/25\n",
      "6/6 [==============================] - 8s 1s/step - loss: 0.3706 - accuracy: 0.8466 - val_loss: 0.7713 - val_accuracy: 0.7000\n",
      "Epoch 12/25\n",
      "6/6 [==============================] - 8s 1s/step - loss: 0.3546 - accuracy: 0.8650 - val_loss: 0.7270 - val_accuracy: 0.7250\n",
      "Epoch 13/25\n",
      "6/6 [==============================] - 8s 1s/step - loss: 0.3459 - accuracy: 0.8282 - val_loss: 0.8529 - val_accuracy: 0.6750\n",
      "Epoch 14/25\n",
      "6/6 [==============================] - 8s 1s/step - loss: 0.3133 - accuracy: 0.8834 - val_loss: 0.7662 - val_accuracy: 0.7500\n",
      "Epoch 15/25\n",
      "6/6 [==============================] - 8s 2s/step - loss: 0.3025 - accuracy: 0.8834 - val_loss: 0.8982 - val_accuracy: 0.7250\n",
      "Epoch 16/25\n",
      "6/6 [==============================] - 8s 1s/step - loss: 0.2516 - accuracy: 0.8896 - val_loss: 0.6559 - val_accuracy: 0.7250\n",
      "Epoch 17/25\n",
      "6/6 [==============================] - 9s 1s/step - loss: 0.2391 - accuracy: 0.8957 - val_loss: 0.8338 - val_accuracy: 0.7000\n",
      "Epoch 18/25\n",
      "6/6 [==============================] - 9s 2s/step - loss: 0.2385 - accuracy: 0.9202 - val_loss: 1.2191 - val_accuracy: 0.7250\n",
      "Epoch 19/25\n",
      "6/6 [==============================] - 9s 1s/step - loss: 0.3057 - accuracy: 0.8405 - val_loss: 0.5105 - val_accuracy: 0.8000\n",
      "Epoch 20/25\n",
      "6/6 [==============================] - 9s 1s/step - loss: 0.2328 - accuracy: 0.9387 - val_loss: 0.7043 - val_accuracy: 0.7500\n",
      "Epoch 21/25\n",
      "6/6 [==============================] - 9s 1s/step - loss: 0.2079 - accuracy: 0.9264 - val_loss: 0.5880 - val_accuracy: 0.8750\n",
      "Epoch 22/25\n",
      "6/6 [==============================] - 8s 1s/step - loss: 0.2091 - accuracy: 0.9202 - val_loss: 0.7374 - val_accuracy: 0.8000\n",
      "Epoch 23/25\n",
      "6/6 [==============================] - 8s 1s/step - loss: 0.1431 - accuracy: 0.9387 - val_loss: 0.8625 - val_accuracy: 0.8000\n",
      "Epoch 24/25\n",
      "6/6 [==============================] - 8s 1s/step - loss: 0.1445 - accuracy: 0.9509 - val_loss: 1.0064 - val_accuracy: 0.8250\n",
      "Epoch 25/25\n",
      "6/6 [==============================] - 8s 1s/step - loss: 0.1353 - accuracy: 0.9509 - val_loss: 0.9489 - val_accuracy: 0.7500\n"
     ]
    },
    {
     "data": {
      "text/plain": [
       "<keras.callbacks.History at 0x1f88043ea30>"
      ]
     },
     "execution_count": 28,
     "metadata": {},
     "output_type": "execute_result"
    }
   ],
   "source": [
    "cnn.fit(x = training_set, validation_data = test_set, epochs = 25)"
   ]
  },
  {
   "cell_type": "code",
   "execution_count": 29,
   "id": "c3fa0eb4",
   "metadata": {},
   "outputs": [
    {
     "name": "stdout",
     "output_type": "stream",
     "text": [
      "INFO:tensorflow:Assets written to: ./myModel_v2\\assets\n"
     ]
    }
   ],
   "source": [
    "cnn.save(\"./myModel_v2\")"
   ]
  },
  {
   "cell_type": "code",
   "execution_count": 30,
   "id": "4099ad68",
   "metadata": {},
   "outputs": [],
   "source": [
    "from keras.preprocessing import image\n",
    "import numpy as np"
   ]
  },
  {
   "cell_type": "code",
   "execution_count": 31,
   "id": "acb8c855",
   "metadata": {},
   "outputs": [
    {
     "data": {
      "text/plain": [
       "{'not_stop': 0, 'stop': 1}"
      ]
     },
     "execution_count": 31,
     "metadata": {},
     "output_type": "execute_result"
    }
   ],
   "source": [
    "training_set.class_indices"
   ]
  }
 ],
 "metadata": {
  "kernelspec": {
   "display_name": "Python 3 (ipykernel)",
   "language": "python",
   "name": "python3"
  },
  "language_info": {
   "codemirror_mode": {
    "name": "ipython",
    "version": 3
   },
   "file_extension": ".py",
   "mimetype": "text/x-python",
   "name": "python",
   "nbconvert_exporter": "python",
   "pygments_lexer": "ipython3",
   "version": "3.9.7"
  }
 },
 "nbformat": 4,
 "nbformat_minor": 5
}
